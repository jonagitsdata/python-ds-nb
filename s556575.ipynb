{
 "cells": [
  {
   "cell_type": "code",
   "execution_count": 1,
   "id": "7cd68847-cb21-4ec9-abf9-7014bc17f50d",
   "metadata": {},
   "outputs": [
    {
     "name": "stdout",
     "output_type": "stream",
     "text": [
      "*      **\n",
      "**    ***\n",
      "***  ****\n",
      "*********\n"
     ]
    }
   ],
   "source": [
    "for i in range(1,5):\n",
    "    for a in range(i):\n",
    "        print(\"*\", end='')\n",
    "    for a in range(4-i):\n",
    "        print(' ', end='')\n",
    "    for a in range(4-i):\n",
    "        print(' ', end='')\n",
    "    for a in range(i):\n",
    "        print(\"*\", end='')\n",
    "    print(\"*\")\n",
    "            "
   ]
  },
  {
   "cell_type": "code",
   "execution_count": null,
   "id": "ed782c85-cbc6-457f-895c-e6cb982f90c5",
   "metadata": {},
   "outputs": [],
   "source": []
  }
 ],
 "metadata": {
  "kernelspec": {
   "display_name": "Python 3 (ipykernel)",
   "language": "python",
   "name": "python3"
  },
  "language_info": {
   "codemirror_mode": {
    "name": "ipython",
    "version": 3
   },
   "file_extension": ".py",
   "mimetype": "text/x-python",
   "name": "python",
   "nbconvert_exporter": "python",
   "pygments_lexer": "ipython3",
   "version": "3.9.7"
  }
 },
 "nbformat": 4,
 "nbformat_minor": 5
}
