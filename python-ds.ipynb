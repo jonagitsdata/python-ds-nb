{
 "cells": [
  {
   "cell_type": "markdown",
   "metadata": {},
   "source": [
    "# Web Mining and Applied NLP (44-620)\n",
    "\n",
    "## Python Notebooks, Basics, and Data Structures\n",
    "\n",
    "### Student Name: Jonathan Nkangabwa\n",
    "\n",
    "Perform the tasks described in the Markdown cells below.  When you have completed the assignment make sure your code cells have all been run (and have output beneath them) and ensure you have committed and pushed ALL of your changes to your assignment repository.\n",
    "\n",
    "Every question that requires you to write code will have a code cell underneath it; you may either write your entire solution in that cell or write it in a python file (`.py`), then import and run the appropriate code to answer the question.\n",
    "\n",
    "Do not use external modules (`math`, etc) for this assignment unless you are explicitly instructed to, though you may use built in python functions (`min`, `max`, etc) as you wish."
   ]
  },
  {
   "cell_type": "markdown",
   "metadata": {},
   "source": [
    "1. Modify the Markdown cell above to put your name after \"Student Name:\"; you will be expected to do this in all assignments presented in this format for this class."
   ]
  },
  {
   "cell_type": "markdown",
   "metadata": {},
   "source": [
    "2. Write code that divides any two numbers, stores the result in a variable, and prints the result with an appropriate label."
   ]
  },
  {
   "cell_type": "code",
   "execution_count": 1,
   "metadata": {},
   "outputs": [
    {
     "name": "stdout",
     "output_type": "stream",
     "text": [
      "8.0\n"
     ]
    }
   ],
   "source": [
    "number1 = 64\n",
    "number2 = 8\n",
    "results = number1/number2\n",
    "print(results)"
   ]
  },
  {
   "cell_type": "markdown",
   "metadata": {},
   "source": [
    "3. Using loops (and potentially conditionals), write Python code that prints the factorial of each integer from 1 through 10 (which you can store in a variable if you want). The factorial of an integer is the product of all of the integers of 1 through the number. Print the result with an appropriate label."
   ]
  },
  {
   "cell_type": "code",
   "execution_count": 34,
   "metadata": {},
   "outputs": [
    {
     "name": "stdout",
     "output_type": "stream",
     "text": [
      "[1, 2, 3, 4, 5, 6, 7, 8, 9, 10]\n",
      "[1, 2, 6, 24, 120, 720, 5040, 40320, 362880, 3628800]\n"
     ]
    }
   ],
   "source": [
    "#input_set = {1,2,3,4,5,6,7,8,9,10}\n",
    "#def factorial(num):\n",
    "#    factorial = 1\n",
    "#    if num == 0 or num == 1:\n",
    "#        return 1\n",
    "#    for i in range(1, num+1):\n",
    "#        factorial = factorial * i\n",
    "#    return factorial\n",
    "\n",
    "#output = factorial(input_set)\n",
    "#print(' Factorial of number  ', num, ' is : ', output)\n",
    "#input_set = {1, 2, 3, 4, 5,6,7,8,9,10}\n",
    "#for item in input_set:\n",
    "#    fact = 1\n",
    "#    for number in range(1,item+1):\n",
    "#        fact = fact * number\n",
    "#        print (\"Factorial \"is\", fact)\n",
    "list =[]\n",
    "for i in range(1,11):\n",
    "    list.append(i)\n",
    "print(list)\n",
    "def factorial(n):\n",
    "    output = 1\n",
    "    for i in range(1, n+1):\n",
    "        output *= i\n",
    "    return output\n",
    "\n",
    "factorials = []\n",
    "for i in range(1, 11):\n",
    "    factorials.append(factorial(i))\n",
    "print(factorials)"
   ]
  },
  {
   "cell_type": "markdown",
   "metadata": {},
   "source": [
    "4. Write a python function that takes a single parameter and calculates and returns the average (mean) of the values in the parameter (which you may assume is iterable).  Show that your function works by printing the result of calling the function on the list in the cell below."
   ]
  },
  {
   "cell_type": "code",
   "execution_count": 1,
   "metadata": {},
   "outputs": [
    {
     "data": {
      "text/plain": [
       "0.0"
      ]
     },
     "execution_count": 1,
     "metadata": {},
     "output_type": "execute_result"
    }
   ],
   "source": [
    "testlist = [1,-1,2,-2,3,-3,4,-4]\n",
    "def my_mean(sample):\n",
    "    return sum(sample) / len(sample)\n",
    "my_mean(testlist)\n"
   ]
  },
  {
   "cell_type": "markdown",
   "metadata": {},
   "source": [
    "5. Using your mean function above, write a function that calculates the variance of the list of numbers (see https://en.wikipedia.org/wiki/Variance for more information on the formula). In short:\n",
    "* subtract the mean of the elements in the list from every element in the list; store these values in a new list\n",
    "* square every element in the new list and sum the elements together\n",
    "* divide the resulting number by N (where N is the length of the original list)\n",
    "\n",
    "Show the result of calling your function in the lists in the code cell. You must use one or more list comprehensions or map/filter in your code.\n"
   ]
  },
  {
   "cell_type": "code",
   "execution_count": 3,
   "metadata": {},
   "outputs": [
    {
     "name": "stdout",
     "output_type": "stream",
     "text": [
      "7.5\n"
     ]
    }
   ],
   "source": [
    "testlist = [1,-1,2,-2,3,-3,4,-4]\n",
    "\n",
    "def variance(data):\n",
    "    n = len(data) #number of observations\n",
    "    mean = sum(data)/n #mean of list\n",
    "    deviations = [( x - mean) ** 2 for x in data] #Square deviations\n",
    "    variance = sum(deviations) / n\n",
    "    return variance\n",
    "print(variance(testlist))"
   ]
  },
  {
   "cell_type": "markdown",
   "metadata": {},
   "source": [
    "6. Create a list with at least 15 elements in it. Use list slicing to print the following:\n",
    "* The first 5 elements of the list\n",
    "* The last 5 elements of the list\n",
    "* The list reversed (hint, show the entire list with a stride of -1)\n",
    "* Every second element in the list\n",
    "* Every third element in the list (stride of 3)"
   ]
  },
  {
   "cell_type": "code",
   "execution_count": 15,
   "metadata": {},
   "outputs": [
    {
     "name": "stdout",
     "output_type": "stream",
     "text": [
      "[0, 1, 2, 3, 4, 5, 6, 7, 8, 9, 10, 11, 12, 13, 14, 15]\n",
      "[0, 1, 2, 3, 4]\n",
      "[10, 11, 12, 13, 14, 15]\n",
      "[15, 14, 13, 12, 11, 10, 9, 8, 7, 6, 5, 4, 3, 2, 1]\n",
      "[0, 2, 4, 6, 8, 10, 12, 14]\n",
      "[0, 3, 6, 9, 12, 15]\n"
     ]
    }
   ],
   "source": [
    "list_15 = []\n",
    "for i in range(16):\n",
    "     list_15.append(i)\n",
    "print(list_15)\n",
    "\n",
    "\n",
    "print(list_15[:5:1])\n",
    "\n",
    "print(list_15[10::1])\n",
    "\n",
    "print(list_15[:-16:-1])\n",
    "\n",
    "print(list_15[0::2])\n",
    "\n",
    "print(list_15[0::3])"
   ]
  },
  {
   "cell_type": "markdown",
   "metadata": {},
   "source": [
    "7. Build a dictionary that contains the following information about this class (with appropriate names as keys):\n",
    "* The name\n",
    "* The course number\n",
    "* The semester/term in which you are taking this course\n",
    "* The number of credit hours this course counts for\n",
    "* A list of the course learning objectives\n",
    "\n",
    "The majority of this information can be found in the syllabus. Print the dictionary."
   ]
  },
  {
   "cell_type": "code",
   "execution_count": 10,
   "metadata": {},
   "outputs": [
    {
     "name": "stdout",
     "output_type": "stream",
     "text": [
      "{'name': 'Web Mining and Applied Natural Language Processing', 'course_num': '44-608', 'semester': 'Fall 2022', 'credit_hours': '3', 'objectives': {'Module 1': ['Github', 'Python Environments', 'Python Review'], 'Module 2': ['Python Data Structures', 'Notebooks'], 'Module 3': ['Visualization in Python Notebooks'], 'Module 4': ['JSON', 'API Data Sources'], 'Module 5': ['XML', 'HTML', 'CSS'], 'Module 6': ['Web Scraping'], 'Module 7': ['Additional topics', 'practice']}}\n"
     ]
    }
   ],
   "source": [
    "class_info = {'name': 'Web Mining and Applied Natural Language Processing',\n",
    "              'course_num': '44-608',\n",
    "              'semester': 'Fall 2022',\n",
    "              'credit_hours': '3',\n",
    "              'objectives': {'Module 1': ['Github', 'Python Environments', 'Python Review'],\n",
    "                             'Module 2': ['Python Data Structures', 'Notebooks'],\n",
    "                             'Module 3': ['Visualization in Python Notebooks'],\n",
    "                             'Module 4': ['JSON', 'API Data Sources'],\n",
    "                             'Module 5': ['XML', 'HTML', 'CSS'],\n",
    "                             'Module 6': ['Web Scraping'],\n",
    "                             'Module 7': ['Additional topics', 'practice']}\n",
    "             }\n",
    "print(class_info)             "
   ]
  },
  {
   "cell_type": "markdown",
   "metadata": {},
   "source": [
    "8.  Given the dictionary defined in the code cell below, print the list of level 3 spells the character has."
   ]
  },
  {
   "cell_type": "code",
   "execution_count": 16,
   "metadata": {},
   "outputs": [
    {
     "name": "stdout",
     "output_type": "stream",
     "text": [
      "['Mass Healing Word', 'Nondetection', 'Revivify', 'Feign Death', 'Speak with Dead']\n"
     ]
    }
   ],
   "source": [
    "player_character = {'name': 'Kitab',\n",
    "                   'class': [('Cleric: Knowledge', 7)],\n",
    "                   'spells': {'cantrip': ['Guidance', 'Light', 'Thaumaturgy', 'Toll the Dead', 'Word of Radiance'],\n",
    "                             'level 1': ['Command', 'Detect Magic', 'Healing Word', 'Identify', 'Sleep'],\n",
    "                             'level 2': ['Augury', 'Calm Emotions', 'Command', 'Invisibility', 'Lesser Restoration'],\n",
    "                             'level 3': ['Mass Healing Word', 'Nondetection', 'Revivify', 'Feign Death', 'Speak with Dead'],\n",
    "                             'level 4': ['Banishment', 'Confusion']}\n",
    "                   }\n",
    "\n",
    "print(player_character['spells']['level 3'])"
   ]
  },
  {
   "cell_type": "markdown",
   "metadata": {},
   "source": [
    "9. Write code to determine the number of unique elements in the list below.  You MUST use a set in finding your solution.  Print the number of unique values in the list with an appropriate label."
   ]
  },
  {
   "cell_type": "code",
   "execution_count": 4,
   "metadata": {},
   "outputs": [
    {
     "name": "stdout",
     "output_type": "stream",
     "text": [
      "Count-  12\n"
     ]
    }
   ],
   "source": [
    "#input list\n",
    "values = [10, 11, 10, 8, 1, 12, 0, 1, 6, 5, 5, 13, 6, 15, 0, 0, 1, 1, 9, 7]\n",
    "\n",
    "#converts list to set\n",
    "to_set = set(values)\n",
    "\n",
    "#prints count of unique values\n",
    "print(\"Count- \", len(to_set))"
   ]
  },
  {
   "cell_type": "markdown",
   "metadata": {},
   "source": [
    "10. Create a new Jupyter Notebook (the name of the notebook should be your S number). Add a Markdown cell that contains your name. Add a Code cell and write Python that uses loops to draw the following pattern:\n",
    "\n",
    "```\n",
    "*      *\n",
    "**    **\n",
    "***  ***\n",
    "********\n",
    "```\n",
    "Make sure to add and submit both the new notebook and the changes to this notebook for this assignment."
   ]
  }
 ],
 "metadata": {
  "kernelspec": {
   "display_name": "Python 3 (ipykernel)",
   "language": "python",
   "name": "python3"
  },
  "language_info": {
   "codemirror_mode": {
    "name": "ipython",
    "version": 3
   },
   "file_extension": ".py",
   "mimetype": "text/x-python",
   "name": "python",
   "nbconvert_exporter": "python",
   "pygments_lexer": "ipython3",
   "version": "3.9.7"
  }
 },
 "nbformat": 4,
 "nbformat_minor": 4
}
