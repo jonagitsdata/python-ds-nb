{
 "cells": [
  {
   "cell_type": "markdown",
   "id": "1079a7a8-9037-4cad-a969-6b0bd3ee0847",
   "metadata": {},
   "source": [
    "# Built In Python Data Structures\n",
    "# with Jonathan Nkangabwa"
   ]
  },
  {
   "cell_type": "markdown",
   "id": "0e46f4fe-57e3-4315-848b-21a7ebf262f8",
   "metadata": {},
   "source": [
    " 1 **Try it!** In the cell below, create a list with 5 elements, then calculate the sum of the elements (and store the sum in another variable).  "
   ]
  },
  {
   "cell_type": "code",
   "execution_count": 12,
   "id": "61d626e7-97b5-46b1-87ce-8de9205cc381",
   "metadata": {},
   "outputs": [
    {
     "name": "stdout",
     "output_type": "stream",
     "text": [
      "Sum of the elements is 30\n"
     ]
    }
   ],
   "source": [
    "jon_list = [2,4,6,8,10]\n",
    "total = (2 + 4 + 6 + 8 + 10)\n",
    "print('Sum of the elements is', total)"
   ]
  },
  {
   "cell_type": "markdown",
   "id": "3a360ec7-de7b-4c9d-8e7d-425a573f45a1",
   "metadata": {},
   "source": [
    "2 **Try it!** In the cell below, There are two lists defined; complete the following tasks:\n",
    "\n",
    "Print the length of list1:\n",
    "\n",
    "Add a string to the end of list2:  \n",
    "\n",
    "Print the length of list2:  \n",
    "\n",
    "Add all elements in list2 to the end of list1:  \n",
    "\n",
    "Remove an element from one of the lists and print it:  \n"
   ]
  },
  {
   "cell_type": "code",
   "execution_count": 13,
   "id": "2ac79c5d-1c7f-4b46-b691-49b7f95c2221",
   "metadata": {},
   "outputs": [
    {
     "name": "stdout",
     "output_type": "stream",
     "text": [
      "6\n",
      "['q', 'w', 'e', 2, 4, 6, 'jonathan']\n",
      "7\n",
      "[1, 3, 5, 'a', 'b', 'c', 'q', 'w', 'e', 2, 4, 6, 'jonathan']\n",
      "['j', 'o', 'n', 7, 8]\n"
     ]
    }
   ],
   "source": [
    "list1 = [1, 3, 5, 'a', 'b', 'c']\n",
    "list2 = ['q', 'w', 'e', 2, 4, 6]\n",
    "list3 = ['j', 'o', 'n', 7, 8, 9]\n",
    "string = 'jonathan'\n",
    "\n",
    "#print the length of list1\n",
    "print(len(list1))\n",
    "\n",
    "#Add a string to the end of list2\n",
    "list2.append(string)\n",
    "print(list2)\n",
    "\n",
    "#print the length of list2\n",
    "print(len(list2))\n",
    "\n",
    "#Add all elements in list2 to the end of list1\n",
    "list1.extend(list2)\n",
    "print(list1)\n",
    "\n",
    "#Remove an element from one of the lists and print it\n",
    "list3.remove(9)\n",
    "print(list3)\n"
   ]
  },
  {
   "cell_type": "markdown",
   "id": "612f77ef-e0ee-433c-856b-7841372855b6",
   "metadata": {},
   "source": [
    "Note that range does not return a list, but instead an object that behaves very similarly to a list. If necessary you can convert a range to a list using the list constructor: list(range(5)) returns the list [0, 1, 2, 3, 4]   \n",
    "3 **Try it!** Perform the sum exercise above (create a list with many numbers, and calculate the sum) but use a for loop (if you had not before)\n"
   ]
  },
  {
   "cell_type": "code",
   "execution_count": 14,
   "id": "3b271bd0-c296-4580-b9f0-c73efa2b6a9a",
   "metadata": {},
   "outputs": [
    {
     "name": "stdout",
     "output_type": "stream",
     "text": [
      "The calculated sum of the list 'numbers':  540\n"
     ]
    }
   ],
   "source": [
    "total = 0\n",
    "\n",
    "numbers = [12, 24, 36, 48, 60, 72, 84, 96, 108]\n",
    "for number in numbers:\n",
    "    total += number\n",
    "print(\"The calculated sum of the list 'numbers': \", total)"
   ]
  },
  {
   "cell_type": "markdown",
   "id": "75d04372-b28b-4702-b70e-f7b0546f6c57",
   "metadata": {},
   "source": [
    "### Sorting lists\n",
    "\n",
    "Python has a built in implementation of Timsort that can be used on lists of any objects that are directly comparable.  There are two ways to invoke the built in sort on the list `l`:\n",
    "\n",
    "* `sorted(l)` returns a sorted list containing the same data as `l`.  The original list is unchanged\n",
    "* `l.sort()` sorts `l` in place and does not return anything\n",
    "\n",
    "Both of these functions accept a `key` parameter that allow you to specify what part of a list of complex objects should be used for sorting.  See https://docs.python.org/3/howto/sorting.html#key-functions for more information.  We will discuss lambda expressions in a later tutorial.\n",
    "\n",
    "4 **Try it!** Create a list and sort it.  Print both the unsorted list and the sorted list."
   ]
  },
  {
   "cell_type": "code",
   "execution_count": 15,
   "id": "9341dc99-4368-4df5-9d7b-65735c1cb208",
   "metadata": {},
   "outputs": [
    {
     "name": "stdout",
     "output_type": "stream",
     "text": [
      "[23, 16, 11, 3, 21, 95, 19, 7, 0, 13, 4]\n",
      "[32, 61, 22, 8, 12, 59, 91, 47, 10, 31, 74]\n",
      "[8, 10, 12, 22, 31, 32, 47, 59, 61, 74, 91]\n"
     ]
    }
   ],
   "source": [
    "#l = list(range(30))\n",
    "#print(l)\n",
    "\n",
    "#sorted(l)\n",
    "\n",
    "#s = [34, 98, 2, 54, 12, 24, 36, 73, 81]\n",
    "#print(s)\n",
    "\n",
    "#sorted(s)\n",
    "\n",
    "j = [23, 16, 11, 3, 21, 95, 19, 7, 0, 13, 4] #Unsorted list printed\n",
    "print(j)\n",
    "\n",
    "k = [32, 61, 22, 8, 12, 59, 91, 47, 10, 31, 74] #Unsorted list to be printed and then sorted\n",
    "print(k)\n",
    "\n",
    "k.sort()\n",
    "\n",
    "print(k)"
   ]
  },
  {
   "cell_type": "markdown",
   "id": "6b47ec98-f090-495c-ab99-5c35131f2618",
   "metadata": {},
   "source": [
    "SWAP FUN WITH THREE VARIABLES (EXTRA)"
   ]
  },
  {
   "cell_type": "code",
   "execution_count": 16,
   "id": "e3f837ab-f858-4644-b6fd-d14679b549ac",
   "metadata": {},
   "outputs": [
    {
     "name": "stdout",
     "output_type": "stream",
     "text": [
      "3 2\n",
      "2 3\n",
      "10 20 30\n",
      "20 30 10\n"
     ]
    }
   ],
   "source": [
    "a = 3\n",
    "b = 2\n",
    "print(a, b)\n",
    "# swap is a oneliner!\n",
    "a, b = b, a\n",
    "print(a, b)\n",
    "\n",
    "c = 10\n",
    "d = 20\n",
    "e = 30\n",
    "print(c,d,e)\n",
    "#SWAP\n",
    "c, d, e = e, c, d\n",
    "print(e, c, d) #This is fun"
   ]
  },
  {
   "cell_type": "markdown",
   "id": "0d199b89-a780-4f1b-a6ba-229a2daa91ca",
   "metadata": {},
   "source": [
    "5 **Try it!** Create a dictionary that contains information about you: your name, your age, your height, and a list of your favorite things. Print the data in your dictionary."
   ]
  },
  {
   "cell_type": "code",
   "execution_count": 17,
   "id": "826e7a31-0e40-4691-a01d-77023e9f4463",
   "metadata": {},
   "outputs": [
    {
     "name": "stdout",
     "output_type": "stream",
     "text": [
      "{'name': 'Jonathan', 'age': 28, 'height': 72, 'faves': ['gym', 'food', 'peace']}\n"
     ]
    },
    {
     "data": {
      "text/plain": [
       "dict_items([('name', 'Jonathan'), ('age', 28), ('height', 72), ('faves', ['gym', 'food', 'peace'])])"
      ]
     },
     "execution_count": 17,
     "metadata": {},
     "output_type": "execute_result"
    }
   ],
   "source": [
    "jon_dict = {'name': 'Jonathan', 'age': 28, 'height': 72, 'faves': ['gym', 'food', 'peace']}\n",
    "print(jon_dict)\n",
    "\n",
    "jon_dict.values()\n",
    "\n",
    "jon_dict.items()"
   ]
  },
  {
   "cell_type": "code",
   "execution_count": null,
   "id": "a82f39a2-4b89-4bb2-8c1f-1564b10d3769",
   "metadata": {},
   "outputs": [],
   "source": []
  }
 ],
 "metadata": {
  "kernelspec": {
   "display_name": "Python 3 (ipykernel)",
   "language": "python",
   "name": "python3"
  },
  "language_info": {
   "codemirror_mode": {
    "name": "ipython",
    "version": 3
   },
   "file_extension": ".py",
   "mimetype": "text/x-python",
   "name": "python",
   "nbconvert_exporter": "python",
   "pygments_lexer": "ipython3",
   "version": "3.9.7"
  }
 },
 "nbformat": 4,
 "nbformat_minor": 5
}
