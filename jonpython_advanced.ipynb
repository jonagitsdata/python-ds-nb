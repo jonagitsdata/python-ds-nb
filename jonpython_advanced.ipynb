{
 "cells": [
  {
   "cell_type": "markdown",
   "id": "58620bcf-089f-4056-bf91-f6a990d9355d",
   "metadata": {},
   "source": [
    "# Advanced Python\n",
    "# with Jonathan Nkangabwa"
   ]
  },
  {
   "cell_type": "markdown",
   "id": "42fbef08-ed69-4f23-a92d-e1a87f9684db",
   "metadata": {},
   "source": [
    "#### Try it!\n",
    "\n",
    "Try to write a list comprehension that contains the string representation of the numbers from 1 to 20"
   ]
  },
  {
   "cell_type": "code",
   "execution_count": 1,
   "id": "e7b4253f-82cd-423d-94ff-3c299ebf1bee",
   "metadata": {},
   "outputs": [
    {
     "name": "stdout",
     "output_type": "stream",
     "text": [
      "[1, 2, 3, 4, 5, 6, 7, 8, 9, 10, 11, 12, 13, 14, 15, 16, 17, 18, 19, 20]\n"
     ]
    }
   ],
   "source": [
    "numbers = [x + 1 for x in range(0,20)]\n",
    "print(numbers)"
   ]
  },
  {
   "cell_type": "markdown",
   "id": "cfeb0560-b51e-443e-a680-0f9219f6c8e5",
   "metadata": {},
   "source": [
    "#### Try It!\n",
    "Write a list comprehension that contains the string representation of the numbers from 1 to 20 if the string representation of the number contains a '1' or a '5'"
   ]
  },
  {
   "cell_type": "code",
   "execution_count": 2,
   "id": "127a731f-ea5d-4c42-9c72-7257e7aeb99f",
   "metadata": {},
   "outputs": [
    {
     "name": "stdout",
     "output_type": "stream",
     "text": [
      "[1, 10, 11, 12, 13, 14, 15, 16, 17, 18, 19]\n",
      "[5, 10, 15]\n",
      "1 5 10 11 12 13 14 15 16 17 18 19 "
     ]
    }
   ],
   "source": [
    "one = [ x for x in range(0,20) if \"1\" in str(x)] \n",
    "print(one)\n",
    "\n",
    "five = [ x for x in range (0,20) if x%5 == 0 if x!= 0]\n",
    "print(five)\n",
    "\n",
    "one_and_five = one + five\n",
    "sorted(one_and_five)\n",
    "\n",
    "def unique(one_and_five):\n",
    "  \n",
    "    # initialize a null list\n",
    "    unique_list = []\n",
    "  \n",
    "    # traverse for all elements\n",
    "    for x in one_and_five:\n",
    "        # check if exists in unique_list or not\n",
    "        if x not in unique_list:\n",
    "            unique_list.append(x)\n",
    "    # print list\n",
    "    for x in unique_list:\n",
    "        print(x, end=\" \")\n",
    "unique(sorted(one_and_five))"
   ]
  },
  {
   "cell_type": "code",
   "execution_count": 4,
   "id": "2f0d00a3-d16d-44b7-aadc-71066361bee8",
   "metadata": {},
   "outputs": [
    {
     "name": "stdout",
     "output_type": "stream",
     "text": [
      "the last problem was tough and I defintely want to make it more readable!\n"
     ]
    }
   ],
   "source": [
    "print('the last problem was tough and I defintely want to make it more readable!')"
   ]
  },
  {
   "cell_type": "code",
   "execution_count": null,
   "id": "0ce71423-ce38-4e05-80e5-a3ff7b0ec5fd",
   "metadata": {},
   "outputs": [],
   "source": []
  }
 ],
 "metadata": {
  "kernelspec": {
   "display_name": "Python 3 (ipykernel)",
   "language": "python",
   "name": "python3"
  },
  "language_info": {
   "codemirror_mode": {
    "name": "ipython",
    "version": 3
   },
   "file_extension": ".py",
   "mimetype": "text/x-python",
   "name": "python",
   "nbconvert_exporter": "python",
   "pygments_lexer": "ipython3",
   "version": "3.9.7"
  }
 },
 "nbformat": 4,
 "nbformat_minor": 5
}
