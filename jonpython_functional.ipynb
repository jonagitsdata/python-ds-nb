{
 "cells": [
  {
   "cell_type": "markdown",
   "id": "743c245c-55ce-4105-b2d4-865d2517b8e8",
   "metadata": {},
   "source": [
    "# Python - Functional Programming  \n",
    "# with Jonathan Nkangabwa"
   ]
  },
  {
   "cell_type": "markdown",
   "id": "2276fcb2-2ade-49d6-a7ac-83e03bac891c",
   "metadata": {},
   "source": [
    "### Practice\n",
    "\n",
    "Import the `sqrt` function from the `math` module, and use `map` to find the square root of all the values in a list of positive integers.  Print the resulting list"
   ]
  },
  {
   "cell_type": "code",
   "execution_count": 1,
   "id": "7d6ff9ec-53c2-456f-9322-f2f9a2adf69d",
   "metadata": {},
   "outputs": [
    {
     "name": "stdout",
     "output_type": "stream",
     "text": [
      "[1.4142135623730951, 2.0, 2.23606797749979, 2.6457513110645907, 3.0, 4.0, 6.708203932499369, 8.306623862918075]\n",
      "[1.4142135623730951, 2.0, 2.23606797749979, 2.6457513110645907, 3.0, 4.0, 6.708203932499369, 8.306623862918075]\n"
     ]
    }
   ],
   "source": [
    "import math\n",
    "\n",
    "jons_list = [2, 4, 5, 7, 9, 16, 45, 69]\n",
    "\n",
    "print(list(map(math.sqrt, jons_list)))\n",
    "\n",
    "#SECOND WAY TO DO IT\n",
    "\n",
    "from math import sqrt\n",
    "\n",
    "jons_list = [2, 4, 5, 7, 9, 16, 45, 69]\n",
    "print(list(map(sqrt, jons_list)))"
   ]
  },
  {
   "cell_type": "markdown",
   "id": "66c20419-c678-4e58-96df-f9ad2ea3bef3",
   "metadata": {},
   "source": [
    "### Practice\n",
    "\n",
    "Similar to above, import the `sqrt` function from the `math` module.  Use a `lambda` and `map` to determine the square root of double each value in a list of positive integers."
   ]
  },
  {
   "cell_type": "code",
   "execution_count": 2,
   "id": "86398342-98a9-4978-b9f6-11d44e5dc667",
   "metadata": {},
   "outputs": [
    {
     "name": "stdout",
     "output_type": "stream",
     "text": [
      "[1.4142135623730951, 2.0, 2.23606797749979, 2.6457513110645907, 3.0, 4.0, 6.708203932499369, 8.306623862918075]\n",
      "[1.4142135623730951, 2.0, 2.23606797749979, 2.6457513110645907, 3.0, 4.0, 6.708203932499369, 8.306623862918075]\n"
     ]
    }
   ],
   "source": [
    "import math\n",
    "jons_list = [2, 4, 5, 7, 9, 16, 45, 69]\n",
    "print(list(map(lambda x: math.sqrt(x), jons_list)))\n",
    "\n",
    "#Second way! cleaner since not writing over 'math'\n",
    "\n",
    "from math import sqrt\n",
    "\n",
    "jons_list = [2, 4, 5, 7, 9, 16, 45, 69]\n",
    "print(list(map(lambda x: sqrt(x), jons_list)))"
   ]
  },
  {
   "cell_type": "markdown",
   "id": "4cc84b67-de27-455e-b87f-7efa0becf16a",
   "metadata": {},
   "source": [
    "### Practice\n",
    "\n",
    "Create a list of integers (both positive and negative.  Write code using `lambda` and `filter` that will print two pieces of information:\n",
    "\n",
    "* The sum of all odd positive numbers in your list\n",
    "* The sum of all even negative numbers in your list"
   ]
  },
  {
   "cell_type": "code",
   "execution_count": 3,
   "id": "51f9dc1c-10f9-4c4d-bc44-817e93c353ff",
   "metadata": {},
   "outputs": [
    {
     "name": "stdout",
     "output_type": "stream",
     "text": [
      "59\n",
      "-120\n"
     ]
    }
   ],
   "source": [
    "jons_list = [1, -2, 4, 5, 8, -9, 11, -14, 17, 20, 25, -28, -31, 34, -36, -40, -43, 46]\n",
    "print(sum(filter(lambda x: x%2 == 1 and x>0, jons_list))) #sum of all odd positive numbers in jons_list\n",
    "print(sum(filter(lambda x: x%2 == 0 and x<0, jons_list))) #sum of all even negative numbers in jons_list\n",
    "\n",
    "#SUPER COOL THAT I ACTUALLY UNDERSTAND WHAT IS GOING ON! I EVEN EXPLAINED IT TO MY GIRLFRIEND! LOVE PYTHON!"
   ]
  },
  {
   "cell_type": "code",
   "execution_count": null,
   "id": "9eda7d64-57a0-4dd3-8741-1aff74d829ec",
   "metadata": {},
   "outputs": [],
   "source": []
  }
 ],
 "metadata": {
  "kernelspec": {
   "display_name": "Python 3 (ipykernel)",
   "language": "python",
   "name": "python3"
  },
  "language_info": {
   "codemirror_mode": {
    "name": "ipython",
    "version": 3
   },
   "file_extension": ".py",
   "mimetype": "text/x-python",
   "name": "python",
   "nbconvert_exporter": "python",
   "pygments_lexer": "ipython3",
   "version": "3.9.7"
  }
 },
 "nbformat": 4,
 "nbformat_minor": 5
}
